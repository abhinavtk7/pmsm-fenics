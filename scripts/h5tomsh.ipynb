{
 "cells": [
  {
   "cell_type": "code",
   "execution_count": 1,
   "id": "870dab8c-0b94-48d3-8031-d80e60a68bb6",
   "metadata": {
    "scrolled": true
   },
   "outputs": [
    {
     "name": "stdout",
     "output_type": "stream",
     "text": [
      "Collecting meshio\n",
      "  Downloading meshio-5.3.5-py3-none-any.whl.metadata (11 kB)\n",
      "Requirement already satisfied: numpy>=1.20.0 in c:\\users\\abhin\\anaconda3\\lib\\site-packages (from meshio) (1.26.4)\n",
      "Requirement already satisfied: rich in c:\\users\\abhin\\anaconda3\\lib\\site-packages (from meshio) (13.3.5)\n",
      "Requirement already satisfied: markdown-it-py<3.0.0,>=2.2.0 in c:\\users\\abhin\\anaconda3\\lib\\site-packages (from rich->meshio) (2.2.0)\n",
      "Requirement already satisfied: pygments<3.0.0,>=2.13.0 in c:\\users\\abhin\\anaconda3\\lib\\site-packages (from rich->meshio) (2.15.1)\n",
      "Requirement already satisfied: mdurl~=0.1 in c:\\users\\abhin\\anaconda3\\lib\\site-packages (from markdown-it-py<3.0.0,>=2.2.0->rich->meshio) (0.1.0)\n",
      "Downloading meshio-5.3.5-py3-none-any.whl (166 kB)\n",
      "   ---------------------------------------- 0.0/166.2 kB ? eta -:--:--\n",
      "   ---------------------------------------- 0.0/166.2 kB ? eta -:--:--\n",
      "   ---------------------------------------- 0.0/166.2 kB ? eta -:--:--\n",
      "   ------- -------------------------------- 30.7/166.2 kB 1.4 MB/s eta 0:00:01\n",
      "   ------- -------------------------------- 30.7/166.2 kB 1.4 MB/s eta 0:00:01\n",
      "   ------------ -------------------------- 51.2/166.2 kB 440.4 kB/s eta 0:00:01\n",
      "   ------------ -------------------------- 51.2/166.2 kB 440.4 kB/s eta 0:00:01\n",
      "   ----------------------- -------------- 102.4/166.2 kB 538.9 kB/s eta 0:00:01\n",
      "   -------------------------------------  163.8/166.2 kB 704.6 kB/s eta 0:00:01\n",
      "   -------------------------------------- 166.2/166.2 kB 666.3 kB/s eta 0:00:00\n",
      "Installing collected packages: meshio\n",
      "Successfully installed meshio-5.3.5\n"
     ]
    }
   ],
   "source": [
    "!pip install meshio"
   ]
  },
  {
   "cell_type": "code",
   "execution_count": 17,
   "id": "9fd68b41-cc7a-45ca-8f7d-3003e0dafa2c",
   "metadata": {},
   "outputs": [
    {
     "name": "stdout",
     "output_type": "stream",
     "text": [
      "XDMF reader: Only supports one grid right now.\n"
     ]
    },
    {
     "data": {
      "text/html": [
       "<pre style=\"white-space:pre;overflow-x:auto;line-height:normal;font-family:Menlo,'DejaVu Sans Mono',consolas,'Courier New',monospace\"><span style=\"color: #800000; text-decoration-color: #800000; font-weight: bold\">Error:</span><span style=\"color: #800000; text-decoration-color: #800000\"> Couldn't read file mesh1.xdmf as xdmf</span>\n",
       "</pre>\n"
      ],
      "text/plain": [
       "\u001b[1;31mError:\u001b[0m\u001b[31m Couldn't read file mesh1.xdmf as xdmf\u001b[0m\n"
      ]
     },
     "metadata": {},
     "output_type": "display_data"
    },
    {
     "ename": "SystemExit",
     "evalue": "1",
     "output_type": "error",
     "traceback": [
      "An exception has occurred, use %tb to see the full traceback.\n",
      "\u001b[1;31mSystemExit\u001b[0m\u001b[1;31m:\u001b[0m 1\n"
     ]
    },
    {
     "name": "stderr",
     "output_type": "stream",
     "text": [
      "C:\\Users\\abhin\\anaconda3\\Lib\\site-packages\\IPython\\core\\interactiveshell.py:3585: UserWarning: To exit: use 'exit', 'quit', or Ctrl-D.\n",
      "  warn(\"To exit: use 'exit', 'quit', or Ctrl-D.\", stacklevel=1)\n"
     ]
    }
   ],
   "source": [
    "import meshio\n",
    "\n",
    "# Load the file (change filename and format accordingly)\n",
    "mesh = meshio.read(\"mesh1.xdmf\")  # or .xdmf"
   ]
  },
  {
   "cell_type": "code",
   "execution_count": 9,
   "id": "e62479f8-fdb9-451c-b3da-be40331854a4",
   "metadata": {},
   "outputs": [
    {
     "ename": "ReadError",
     "evalue": "Could not deduce file format from path 'mesh1.h5'.",
     "output_type": "error",
     "traceback": [
      "\u001b[1;31m---------------------------------------------------------------------------\u001b[0m",
      "\u001b[1;31mReadError\u001b[0m                                 Traceback (most recent call last)",
      "Cell \u001b[1;32mIn[9], line 4\u001b[0m\n\u001b[0;32m      1\u001b[0m \u001b[38;5;28;01mimport\u001b[39;00m \u001b[38;5;21;01mmeshio\u001b[39;00m\n\u001b[0;32m      3\u001b[0m \u001b[38;5;66;03m# Load the file (change filename and format accordingly)\u001b[39;00m\n\u001b[1;32m----> 4\u001b[0m mesh \u001b[38;5;241m=\u001b[39m meshio\u001b[38;5;241m.\u001b[39mread(\u001b[38;5;124m\"\u001b[39m\u001b[38;5;124mmesh1.h5\u001b[39m\u001b[38;5;124m\"\u001b[39m)  \u001b[38;5;66;03m# or .xdmf\u001b[39;00m\n\u001b[0;32m      6\u001b[0m \u001b[38;5;66;03m# Write to Gmsh .msh format\u001b[39;00m\n\u001b[0;32m      7\u001b[0m mesh\u001b[38;5;241m.\u001b[39mwrite(\u001b[38;5;124m\"\u001b[39m\u001b[38;5;124mpmsm_mesh1_3d.msh\u001b[39m\u001b[38;5;124m\"\u001b[39m, file_format\u001b[38;5;241m=\u001b[39m\u001b[38;5;124m\"\u001b[39m\u001b[38;5;124mgmsh\u001b[39m\u001b[38;5;124m\"\u001b[39m)\n",
      "File \u001b[1;32m~\\anaconda3\\Lib\\site-packages\\meshio\\_helpers.py:71\u001b[0m, in \u001b[0;36mread\u001b[1;34m(filename, file_format)\u001b[0m\n\u001b[0;32m     68\u001b[0m \u001b[38;5;28;01mif\u001b[39;00m is_buffer(filename, \u001b[38;5;124m\"\u001b[39m\u001b[38;5;124mr\u001b[39m\u001b[38;5;124m\"\u001b[39m):\n\u001b[0;32m     69\u001b[0m     \u001b[38;5;28;01mreturn\u001b[39;00m _read_buffer(filename, file_format)\n\u001b[1;32m---> 71\u001b[0m \u001b[38;5;28;01mreturn\u001b[39;00m _read_file(Path(filename), file_format)\n",
      "File \u001b[1;32m~\\anaconda3\\Lib\\site-packages\\meshio\\_helpers.py:96\u001b[0m, in \u001b[0;36m_read_file\u001b[1;34m(path, file_format)\u001b[0m\n\u001b[0;32m     93\u001b[0m     possible_file_formats \u001b[38;5;241m=\u001b[39m [file_format]\n\u001b[0;32m     94\u001b[0m \u001b[38;5;28;01melse\u001b[39;00m:\n\u001b[0;32m     95\u001b[0m     \u001b[38;5;66;03m# deduce possible file formats from extension\u001b[39;00m\n\u001b[1;32m---> 96\u001b[0m     possible_file_formats \u001b[38;5;241m=\u001b[39m _filetypes_from_path(path)\n\u001b[0;32m     98\u001b[0m \u001b[38;5;28;01mfor\u001b[39;00m file_format \u001b[38;5;129;01min\u001b[39;00m possible_file_formats:\n\u001b[0;32m     99\u001b[0m     \u001b[38;5;28;01mif\u001b[39;00m file_format \u001b[38;5;129;01mnot\u001b[39;00m \u001b[38;5;129;01min\u001b[39;00m reader_map:\n",
      "File \u001b[1;32m~\\anaconda3\\Lib\\site-packages\\meshio\\_helpers.py:56\u001b[0m, in \u001b[0;36m_filetypes_from_path\u001b[1;34m(path)\u001b[0m\n\u001b[0;32m     53\u001b[0m         \u001b[38;5;28;01mpass\u001b[39;00m\n\u001b[0;32m     55\u001b[0m \u001b[38;5;28;01mif\u001b[39;00m \u001b[38;5;129;01mnot\u001b[39;00m out:\n\u001b[1;32m---> 56\u001b[0m     \u001b[38;5;28;01mraise\u001b[39;00m ReadError(\u001b[38;5;124mf\u001b[39m\u001b[38;5;124m\"\u001b[39m\u001b[38;5;124mCould not deduce file format from path \u001b[39m\u001b[38;5;124m'\u001b[39m\u001b[38;5;132;01m{\u001b[39;00mpath\u001b[38;5;132;01m}\u001b[39;00m\u001b[38;5;124m'\u001b[39m\u001b[38;5;124m.\u001b[39m\u001b[38;5;124m\"\u001b[39m)\n\u001b[0;32m     57\u001b[0m \u001b[38;5;28;01mreturn\u001b[39;00m out\n",
      "\u001b[1;31mReadError\u001b[0m: Could not deduce file format from path 'mesh1.h5'."
     ]
    }
   ],
   "source": [
    "\n",
    "\n",
    "# Write to Gmsh .msh format\n",
    "mesh.write(\"pmsm_mesh1_3d.msh\", file_format=\"gmsh\")\n"
   ]
  },
  {
   "cell_type": "code",
   "execution_count": 5,
   "id": "c8c044ed-c212-45d7-b662-335fb2968029",
   "metadata": {},
   "outputs": [
    {
     "name": "stdout",
     "output_type": "stream",
     "text": [
      "C:\\Users\\abhin\\TEAM30\n"
     ]
    }
   ],
   "source": [
    "import os\n",
    "print(os.getcwd())\n"
   ]
  },
  {
   "cell_type": "code",
   "execution_count": 7,
   "id": "ccd71c59-c2a1-404d-bc2a-141366c41bb6",
   "metadata": {},
   "outputs": [
    {
     "data": {
      "text/plain": [
       "['.devcontainer',\n",
       " '.dockerignore',\n",
       " '.git',\n",
       " '.github',\n",
       " '.gitignore',\n",
       " '.ipynb_checkpoints',\n",
       " '.pytest_cache',\n",
       " '.vscode',\n",
       " 'doc',\n",
       " 'Dockerfile',\n",
       " 'generate_team30_meshes.py',\n",
       " 'generate_team30_meshes_3D.py',\n",
       " 'h5tomsh.ipynb',\n",
       " 'LICENSE',\n",
       " 'mesh1.h5',\n",
       " 'meshes',\n",
       " 'parametric_study.py',\n",
       " 'README.md',\n",
       " 'ref_Br_Htheta_200.txt',\n",
       " 'ref_single_phase.txt',\n",
       " 'ref_three_phase.txt',\n",
       " 'requirements.txt',\n",
       " 'setup.cfg',\n",
       " 'solve_3D_time.py',\n",
       " 'TEAM30_0.0_single',\n",
       " 'TEAM30_0_tree',\n",
       " 'TEAM30_314.16_tree',\n",
       " 'TEAM30_50.0_single',\n",
       " 'team30_A_phi.py',\n",
       " 'Test_results_single',\n",
       " 'Test_results_three',\n",
       " 'test_team30.py',\n",
       " 'tox.ini',\n",
       " 'utils.py',\n",
       " '__pycache__']"
      ]
     },
     "execution_count": 7,
     "metadata": {},
     "output_type": "execute_result"
    }
   ],
   "source": [
    "os.listdir()\n"
   ]
  },
  {
   "cell_type": "code",
   "execution_count": null,
   "id": "5694622d-6190-4bd5-a9fa-073cc4af80b6",
   "metadata": {},
   "outputs": [],
   "source": []
  }
 ],
 "metadata": {
  "kernelspec": {
   "display_name": "Python 3 (ipykernel)",
   "language": "python",
   "name": "python3"
  },
  "language_info": {
   "codemirror_mode": {
    "name": "ipython",
    "version": 3
   },
   "file_extension": ".py",
   "mimetype": "text/x-python",
   "name": "python",
   "nbconvert_exporter": "python",
   "pygments_lexer": "ipython3",
   "version": "3.12.4"
  }
 },
 "nbformat": 4,
 "nbformat_minor": 5
}
