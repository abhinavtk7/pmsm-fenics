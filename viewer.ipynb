{
 "cells": [
  {
   "cell_type": "code",
   "execution_count": null,
   "metadata": {
    "vscode": {
     "languageId": "plaintext"
    }
   },
   "outputs": [],
   "source": [
    "import pyvista as pv\n",
    "\n",
    "# Load the .bp file (VTK binary format)\n",
    "\n",
    "Az_location = '/root/shared/pm3Dec26_TEAM30_three_100.0_1_100_False/Az.bp'\n",
    "b_location = '/root/shared/pm3Dec26_TEAM30_three_100.0_1_100_False/B.bp'\n"
   ]
  },
  {
   "cell_type": "code",
   "execution_count": null,
   "metadata": {
    "vscode": {
     "languageId": "plaintext"
    }
   },
   "outputs": [],
   "source": [
    "az_data = pv.read(\"Az.bp\")\n",
    "b_data = pv.read(\"B.bp\")\n",
    "\n",
    "# Visualize Az\n",
    "plotter = pv.Plotter()\n",
    "plotter.add_mesh(az_data, show_edges=True)\n",
    "plotter.show()\n",
    "\n",
    "# Visualize B\n",
    "plotter = pv.Plotter()\n",
    "plotter.add_mesh(b_data, show_edges=True)\n",
    "plotter.show()\n"
   ]
  }
 ],
 "metadata": {
  "language_info": {
   "name": "python"
  }
 },
 "nbformat": 4,
 "nbformat_minor": 2
}
